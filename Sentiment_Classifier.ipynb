{
 "cells": [
  {
   "cell_type": "markdown",
   "id": "bdf9a074",
   "metadata": {},
   "source": [
    "### Import the \"html_pitchfork_metadata.csv\" which contains the artcile title, body text, posting date and author name of 3549 articles."
   ]
  },
  {
   "cell_type": "code",
   "execution_count": 1,
   "id": "9a0febea",
   "metadata": {
    "scrolled": true
   },
   "outputs": [
    {
     "data": {
      "text/html": [
       "<div>\n",
       "<style scoped>\n",
       "    .dataframe tbody tr th:only-of-type {\n",
       "        vertical-align: middle;\n",
       "    }\n",
       "\n",
       "    .dataframe tbody tr th {\n",
       "        vertical-align: top;\n",
       "    }\n",
       "\n",
       "    .dataframe thead th {\n",
       "        text-align: right;\n",
       "    }\n",
       "</style>\n",
       "<table border=\"1\" class=\"dataframe\">\n",
       "  <thead>\n",
       "    <tr style=\"text-align: right;\">\n",
       "      <th></th>\n",
       "      <th>article_title</th>\n",
       "      <th>article_bodytext</th>\n",
       "      <th>posting_date</th>\n",
       "      <th>article_author</th>\n",
       "    </tr>\n",
       "  </thead>\n",
       "  <tbody>\n",
       "    <tr>\n",
       "      <th>0</th>\n",
       "      <td>Lapse in Passage</td>\n",
       "      <td>Mute Duo’s music is emblematic of their deep roots in Chicago.  Pedal steel guitarist Sam Wagster and drummer/multi-instrumentalist Skyler Rowe d...</td>\n",
       "      <td>March 24, 2020</td>\n",
       "      <td>Jonathan Williger</td>\n",
       "    </tr>\n",
       "    <tr>\n",
       "      <th>1</th>\n",
       "      <td>Origin EP</td>\n",
       "      <td>Kelly Moran’s Ultraviolet grew out of a period of writer’s block.  Her usual method of composition—painstakingly plotting every note on staff pap...</td>\n",
       "      <td>May 20, 2019</td>\n",
       "      <td>Philip Sherburne</td>\n",
       "    </tr>\n",
       "    <tr>\n",
       "      <th>2</th>\n",
       "      <td>Welcome to GStarr Vol. 1 EP</td>\n",
       "      <td>Justin Rivera was 14 years old when he appeared on the second season of Lifetime’s 2016 music competition series The Rap Game as J. I.  the Princ...</td>\n",
       "      <td>July 23, 2020</td>\n",
       "      <td>Alphonse Pierre</td>\n",
       "    </tr>\n",
       "    <tr>\n",
       "      <th>3</th>\n",
       "      <td>A Muse in Her Feelings</td>\n",
       "      <td>Daniel Daley has a voice so striking that it’s almost an affront he began his career as a rapper and songwriter; imagine having that gift and not...</td>\n",
       "      <td>April 22, 2020</td>\n",
       "      <td>Rawiya Kameir</td>\n",
       "    </tr>\n",
       "    <tr>\n",
       "      <th>4</th>\n",
       "      <td>Norman Fucking Rockwell!</td>\n",
       "      <td>In 2017, Lana Del Rey stopped performing in front of the American flag.  Where the singer-songwriter born Elizabeth Grant had once stood onstage ...</td>\n",
       "      <td>September 3, 2019</td>\n",
       "      <td>Jenn Pelly</td>\n",
       "    </tr>\n",
       "    <tr>\n",
       "      <th>...</th>\n",
       "      <td>...</td>\n",
       "      <td>...</td>\n",
       "      <td>...</td>\n",
       "      <td>...</td>\n",
       "    </tr>\n",
       "    <tr>\n",
       "      <th>3544</th>\n",
       "      <td>Blue World</td>\n",
       "      <td>Sometimes a thing can be hidden without really hiding.  Blue World, a previously unissued cache of studio recordings by the classic John Coltrane...</td>\n",
       "      <td>September 30, 2019</td>\n",
       "      <td>Nate Chinen</td>\n",
       "    </tr>\n",
       "    <tr>\n",
       "      <th>3545</th>\n",
       "      <td>Laurel Hell</td>\n",
       "      <td>Mitski sees the world with the ruthless, knowing gaze of someone who grew up too fast.  Her cutting acuity is part of what inspires rapture from ...</td>\n",
       "      <td>February 2, 2022</td>\n",
       "      <td>Cat Zhang</td>\n",
       "    </tr>\n",
       "    <tr>\n",
       "      <th>3546</th>\n",
       "      <td>Home Video</td>\n",
       "      <td>Lucy Dacus’ third album, Home Video, explores a slice of 2000s Christian youth culture from the perspective of a girl who lived through it.  It w...</td>\n",
       "      <td>June 24, 2021</td>\n",
       "      <td>Peyton Thomas</td>\n",
       "    </tr>\n",
       "    <tr>\n",
       "      <th>3547</th>\n",
       "      <td>King’s Mouth</td>\n",
       "      <td>If there’s been one constant in The Flaming Lips’ careening four-decade evolution from Okie goth-punk weirdos to festival-conquering freak show, ...</td>\n",
       "      <td>July 22, 2019</td>\n",
       "      <td>Stuart Berman</td>\n",
       "    </tr>\n",
       "    <tr>\n",
       "      <th>3548</th>\n",
       "      <td>Ants From Up There</td>\n",
       "      <td>The Concorde jet: aeronautical disgrace, financial boondoggle, multinational embarrassment.  Hell of a metaphor, though.  Isaac Wood returns to i...</td>\n",
       "      <td>February 8, 2022</td>\n",
       "      <td>Ian Cohen</td>\n",
       "    </tr>\n",
       "  </tbody>\n",
       "</table>\n",
       "<p>3549 rows × 4 columns</p>\n",
       "</div>"
      ],
      "text/plain": [
       "                    article_title  \\\n",
       "0                Lapse in Passage   \n",
       "1                       Origin EP   \n",
       "2     Welcome to GStarr Vol. 1 EP   \n",
       "3          A Muse in Her Feelings   \n",
       "4        Norman Fucking Rockwell!   \n",
       "...                           ...   \n",
       "3544                   Blue World   \n",
       "3545                  Laurel Hell   \n",
       "3546                   Home Video   \n",
       "3547                 King’s Mouth   \n",
       "3548           Ants From Up There   \n",
       "\n",
       "                                                                                                                                           article_bodytext  \\\n",
       "0      Mute Duo’s music is emblematic of their deep roots in Chicago.  Pedal steel guitarist Sam Wagster and drummer/multi-instrumentalist Skyler Rowe d...   \n",
       "1      Kelly Moran’s Ultraviolet grew out of a period of writer’s block.  Her usual method of composition—painstakingly plotting every note on staff pap...   \n",
       "2      Justin Rivera was 14 years old when he appeared on the second season of Lifetime’s 2016 music competition series The Rap Game as J. I.  the Princ...   \n",
       "3      Daniel Daley has a voice so striking that it’s almost an affront he began his career as a rapper and songwriter; imagine having that gift and not...   \n",
       "4      In 2017, Lana Del Rey stopped performing in front of the American flag.  Where the singer-songwriter born Elizabeth Grant had once stood onstage ...   \n",
       "...                                                                                                                                                     ...   \n",
       "3544   Sometimes a thing can be hidden without really hiding.  Blue World, a previously unissued cache of studio recordings by the classic John Coltrane...   \n",
       "3545   Mitski sees the world with the ruthless, knowing gaze of someone who grew up too fast.  Her cutting acuity is part of what inspires rapture from ...   \n",
       "3546   Lucy Dacus’ third album, Home Video, explores a slice of 2000s Christian youth culture from the perspective of a girl who lived through it.  It w...   \n",
       "3547   If there’s been one constant in The Flaming Lips’ careening four-decade evolution from Okie goth-punk weirdos to festival-conquering freak show, ...   \n",
       "3548   The Concorde jet: aeronautical disgrace, financial boondoggle, multinational embarrassment.  Hell of a metaphor, though.  Isaac Wood returns to i...   \n",
       "\n",
       "            posting_date     article_author  \n",
       "0         March 24, 2020  Jonathan Williger  \n",
       "1           May 20, 2019   Philip Sherburne  \n",
       "2          July 23, 2020    Alphonse Pierre  \n",
       "3         April 22, 2020      Rawiya Kameir  \n",
       "4      September 3, 2019         Jenn Pelly  \n",
       "...                  ...                ...  \n",
       "3544  September 30, 2019        Nate Chinen  \n",
       "3545    February 2, 2022          Cat Zhang  \n",
       "3546       June 24, 2021      Peyton Thomas  \n",
       "3547       July 22, 2019      Stuart Berman  \n",
       "3548    February 8, 2022          Ian Cohen  \n",
       "\n",
       "[3549 rows x 4 columns]"
      ]
     },
     "execution_count": 1,
     "metadata": {},
     "output_type": "execute_result"
    }
   ],
   "source": [
    "import pandas as pd\n",
    "import nltk\n",
    "\n",
    "pd.set_option('display.max_colwidth', 150)    # set the maximum column width to 150\n",
    "\n",
    "df = pd.read_csv(\"html_pitchfork_metadata.csv\", sep=\"\\t\")\n",
    "df"
   ]
  },
  {
   "cell_type": "markdown",
   "id": "ac82d556",
   "metadata": {},
   "source": [
    "### Tokenize the article body text in to sentences."
   ]
  },
  {
   "cell_type": "code",
   "execution_count": 2,
   "id": "db642b34",
   "metadata": {
    "scrolled": false
   },
   "outputs": [
    {
     "data": {
      "text/html": [
       "<div>\n",
       "<style scoped>\n",
       "    .dataframe tbody tr th:only-of-type {\n",
       "        vertical-align: middle;\n",
       "    }\n",
       "\n",
       "    .dataframe tbody tr th {\n",
       "        vertical-align: top;\n",
       "    }\n",
       "\n",
       "    .dataframe thead th {\n",
       "        text-align: right;\n",
       "    }\n",
       "</style>\n",
       "<table border=\"1\" class=\"dataframe\">\n",
       "  <thead>\n",
       "    <tr style=\"text-align: right;\">\n",
       "      <th></th>\n",
       "      <th>article_title</th>\n",
       "      <th>article_bodytext</th>\n",
       "      <th>posting_date</th>\n",
       "      <th>article_author</th>\n",
       "      <th>sentences</th>\n",
       "      <th>num_sentences</th>\n",
       "    </tr>\n",
       "  </thead>\n",
       "  <tbody>\n",
       "    <tr>\n",
       "      <th>0</th>\n",
       "      <td>Lapse in Passage</td>\n",
       "      <td>Mute Duo’s music is emblematic of their deep roots in Chicago.  Pedal steel guitarist Sam Wagster and drummer/multi-instrumentalist Skyler Rowe d...</td>\n",
       "      <td>March 24, 2020</td>\n",
       "      <td>Jonathan Williger</td>\n",
       "      <td>[ Mute Duo’s music is emblematic of their deep roots in Chicago., Pedal steel guitarist Sam Wagster and drummer/multi-instrumentalist Skyler Rowe ...</td>\n",
       "      <td>26</td>\n",
       "    </tr>\n",
       "    <tr>\n",
       "      <th>1</th>\n",
       "      <td>Origin EP</td>\n",
       "      <td>Kelly Moran’s Ultraviolet grew out of a period of writer’s block.  Her usual method of composition—painstakingly plotting every note on staff pap...</td>\n",
       "      <td>May 20, 2019</td>\n",
       "      <td>Philip Sherburne</td>\n",
       "      <td>[ Kelly Moran’s Ultraviolet grew out of a period of writer’s block., Her usual method of composition—painstakingly plotting every note on staff pa...</td>\n",
       "      <td>26</td>\n",
       "    </tr>\n",
       "    <tr>\n",
       "      <th>2</th>\n",
       "      <td>Welcome to GStarr Vol. 1 EP</td>\n",
       "      <td>Justin Rivera was 14 years old when he appeared on the second season of Lifetime’s 2016 music competition series The Rap Game as J. I.  the Princ...</td>\n",
       "      <td>July 23, 2020</td>\n",
       "      <td>Alphonse Pierre</td>\n",
       "      <td>[ Justin Rivera was 14 years old when he appeared on the second season of Lifetime’s 2016 music competition series The Rap Game as J. I.  the Prin...</td>\n",
       "      <td>24</td>\n",
       "    </tr>\n",
       "    <tr>\n",
       "      <th>3</th>\n",
       "      <td>A Muse in Her Feelings</td>\n",
       "      <td>Daniel Daley has a voice so striking that it’s almost an affront he began his career as a rapper and songwriter; imagine having that gift and not...</td>\n",
       "      <td>April 22, 2020</td>\n",
       "      <td>Rawiya Kameir</td>\n",
       "      <td>[ Daniel Daley has a voice so striking that it’s almost an affront he began his career as a rapper and songwriter; imagine having that gift and no...</td>\n",
       "      <td>29</td>\n",
       "    </tr>\n",
       "    <tr>\n",
       "      <th>4</th>\n",
       "      <td>Norman Fucking Rockwell!</td>\n",
       "      <td>In 2017, Lana Del Rey stopped performing in front of the American flag.  Where the singer-songwriter born Elizabeth Grant had once stood onstage ...</td>\n",
       "      <td>September 3, 2019</td>\n",
       "      <td>Jenn Pelly</td>\n",
       "      <td>[ In 2017, Lana Del Rey stopped performing in front of the American flag., Where the singer-songwriter born Elizabeth Grant had once stood onstage...</td>\n",
       "      <td>76</td>\n",
       "    </tr>\n",
       "    <tr>\n",
       "      <th>...</th>\n",
       "      <td>...</td>\n",
       "      <td>...</td>\n",
       "      <td>...</td>\n",
       "      <td>...</td>\n",
       "      <td>...</td>\n",
       "      <td>...</td>\n",
       "    </tr>\n",
       "    <tr>\n",
       "      <th>3544</th>\n",
       "      <td>Blue World</td>\n",
       "      <td>Sometimes a thing can be hidden without really hiding.  Blue World, a previously unissued cache of studio recordings by the classic John Coltrane...</td>\n",
       "      <td>September 30, 2019</td>\n",
       "      <td>Nate Chinen</td>\n",
       "      <td>[ Sometimes a thing can be hidden without really hiding., Blue World, a previously unissued cache of studio recordings by the classic John Coltran...</td>\n",
       "      <td>47</td>\n",
       "    </tr>\n",
       "    <tr>\n",
       "      <th>3545</th>\n",
       "      <td>Laurel Hell</td>\n",
       "      <td>Mitski sees the world with the ruthless, knowing gaze of someone who grew up too fast.  Her cutting acuity is part of what inspires rapture from ...</td>\n",
       "      <td>February 2, 2022</td>\n",
       "      <td>Cat Zhang</td>\n",
       "      <td>[ Mitski sees the world with the ruthless, knowing gaze of someone who grew up too fast., Her cutting acuity is part of what inspires rapture from...</td>\n",
       "      <td>62</td>\n",
       "    </tr>\n",
       "    <tr>\n",
       "      <th>3546</th>\n",
       "      <td>Home Video</td>\n",
       "      <td>Lucy Dacus’ third album, Home Video, explores a slice of 2000s Christian youth culture from the perspective of a girl who lived through it.  It w...</td>\n",
       "      <td>June 24, 2021</td>\n",
       "      <td>Peyton Thomas</td>\n",
       "      <td>[ Lucy Dacus’ third album, Home Video, explores a slice of 2000s Christian youth culture from the perspective of a girl who lived through it., It ...</td>\n",
       "      <td>44</td>\n",
       "    </tr>\n",
       "    <tr>\n",
       "      <th>3547</th>\n",
       "      <td>King’s Mouth</td>\n",
       "      <td>If there’s been one constant in The Flaming Lips’ careening four-decade evolution from Okie goth-punk weirdos to festival-conquering freak show, ...</td>\n",
       "      <td>July 22, 2019</td>\n",
       "      <td>Stuart Berman</td>\n",
       "      <td>[ If there’s been one constant in The Flaming Lips’ careening four-decade evolution from Okie goth-punk weirdos to festival-conquering freak show,...</td>\n",
       "      <td>23</td>\n",
       "    </tr>\n",
       "    <tr>\n",
       "      <th>3548</th>\n",
       "      <td>Ants From Up There</td>\n",
       "      <td>The Concorde jet: aeronautical disgrace, financial boondoggle, multinational embarrassment.  Hell of a metaphor, though.  Isaac Wood returns to i...</td>\n",
       "      <td>February 8, 2022</td>\n",
       "      <td>Ian Cohen</td>\n",
       "      <td>[ The Concorde jet: aeronautical disgrace, financial boondoggle, multinational embarrassment., Hell of a metaphor, though., Isaac Wood returns to ...</td>\n",
       "      <td>48</td>\n",
       "    </tr>\n",
       "  </tbody>\n",
       "</table>\n",
       "<p>3549 rows × 6 columns</p>\n",
       "</div>"
      ],
      "text/plain": [
       "                    article_title  \\\n",
       "0                Lapse in Passage   \n",
       "1                       Origin EP   \n",
       "2     Welcome to GStarr Vol. 1 EP   \n",
       "3          A Muse in Her Feelings   \n",
       "4        Norman Fucking Rockwell!   \n",
       "...                           ...   \n",
       "3544                   Blue World   \n",
       "3545                  Laurel Hell   \n",
       "3546                   Home Video   \n",
       "3547                 King’s Mouth   \n",
       "3548           Ants From Up There   \n",
       "\n",
       "                                                                                                                                           article_bodytext  \\\n",
       "0      Mute Duo’s music is emblematic of their deep roots in Chicago.  Pedal steel guitarist Sam Wagster and drummer/multi-instrumentalist Skyler Rowe d...   \n",
       "1      Kelly Moran’s Ultraviolet grew out of a period of writer’s block.  Her usual method of composition—painstakingly plotting every note on staff pap...   \n",
       "2      Justin Rivera was 14 years old when he appeared on the second season of Lifetime’s 2016 music competition series The Rap Game as J. I.  the Princ...   \n",
       "3      Daniel Daley has a voice so striking that it’s almost an affront he began his career as a rapper and songwriter; imagine having that gift and not...   \n",
       "4      In 2017, Lana Del Rey stopped performing in front of the American flag.  Where the singer-songwriter born Elizabeth Grant had once stood onstage ...   \n",
       "...                                                                                                                                                     ...   \n",
       "3544   Sometimes a thing can be hidden without really hiding.  Blue World, a previously unissued cache of studio recordings by the classic John Coltrane...   \n",
       "3545   Mitski sees the world with the ruthless, knowing gaze of someone who grew up too fast.  Her cutting acuity is part of what inspires rapture from ...   \n",
       "3546   Lucy Dacus’ third album, Home Video, explores a slice of 2000s Christian youth culture from the perspective of a girl who lived through it.  It w...   \n",
       "3547   If there’s been one constant in The Flaming Lips’ careening four-decade evolution from Okie goth-punk weirdos to festival-conquering freak show, ...   \n",
       "3548   The Concorde jet: aeronautical disgrace, financial boondoggle, multinational embarrassment.  Hell of a metaphor, though.  Isaac Wood returns to i...   \n",
       "\n",
       "            posting_date     article_author  \\\n",
       "0         March 24, 2020  Jonathan Williger   \n",
       "1           May 20, 2019   Philip Sherburne   \n",
       "2          July 23, 2020    Alphonse Pierre   \n",
       "3         April 22, 2020      Rawiya Kameir   \n",
       "4      September 3, 2019         Jenn Pelly   \n",
       "...                  ...                ...   \n",
       "3544  September 30, 2019        Nate Chinen   \n",
       "3545    February 2, 2022          Cat Zhang   \n",
       "3546       June 24, 2021      Peyton Thomas   \n",
       "3547       July 22, 2019      Stuart Berman   \n",
       "3548    February 8, 2022          Ian Cohen   \n",
       "\n",
       "                                                                                                                                                  sentences  \\\n",
       "0     [ Mute Duo’s music is emblematic of their deep roots in Chicago., Pedal steel guitarist Sam Wagster and drummer/multi-instrumentalist Skyler Rowe ...   \n",
       "1     [ Kelly Moran’s Ultraviolet grew out of a period of writer’s block., Her usual method of composition—painstakingly plotting every note on staff pa...   \n",
       "2     [ Justin Rivera was 14 years old when he appeared on the second season of Lifetime’s 2016 music competition series The Rap Game as J. I.  the Prin...   \n",
       "3     [ Daniel Daley has a voice so striking that it’s almost an affront he began his career as a rapper and songwriter; imagine having that gift and no...   \n",
       "4     [ In 2017, Lana Del Rey stopped performing in front of the American flag., Where the singer-songwriter born Elizabeth Grant had once stood onstage...   \n",
       "...                                                                                                                                                     ...   \n",
       "3544  [ Sometimes a thing can be hidden without really hiding., Blue World, a previously unissued cache of studio recordings by the classic John Coltran...   \n",
       "3545  [ Mitski sees the world with the ruthless, knowing gaze of someone who grew up too fast., Her cutting acuity is part of what inspires rapture from...   \n",
       "3546  [ Lucy Dacus’ third album, Home Video, explores a slice of 2000s Christian youth culture from the perspective of a girl who lived through it., It ...   \n",
       "3547  [ If there’s been one constant in The Flaming Lips’ careening four-decade evolution from Okie goth-punk weirdos to festival-conquering freak show,...   \n",
       "3548  [ The Concorde jet: aeronautical disgrace, financial boondoggle, multinational embarrassment., Hell of a metaphor, though., Isaac Wood returns to ...   \n",
       "\n",
       "      num_sentences  \n",
       "0                26  \n",
       "1                26  \n",
       "2                24  \n",
       "3                29  \n",
       "4                76  \n",
       "...             ...  \n",
       "3544             47  \n",
       "3545             62  \n",
       "3546             44  \n",
       "3547             23  \n",
       "3548             48  \n",
       "\n",
       "[3549 rows x 6 columns]"
      ]
     },
     "execution_count": 2,
     "metadata": {},
     "output_type": "execute_result"
    }
   ],
   "source": [
    "df[\"sentences\"] = df.article_bodytext.apply(lambda x: nltk.sent_tokenize(x))\n",
    "df[\"num_sentences\"] = df.sentences.apply(lambda x: len(x))\n",
    "df"
   ]
  },
  {
   "cell_type": "markdown",
   "id": "bb2ffba5",
   "metadata": {},
   "source": [
    "### Merge all the sentences of each ariticle into a single list."
   ]
  },
  {
   "cell_type": "code",
   "execution_count": 3,
   "id": "dd6fbba3",
   "metadata": {},
   "outputs": [
    {
     "name": "stdout",
     "output_type": "stream",
     "text": [
      "116275\n",
      "114754\n"
     ]
    }
   ],
   "source": [
    "sentences = []\n",
    "for sent in df.sentences:\n",
    "    sentences = sentences + sent\n",
    "print(len(sentences))\n",
    "\n",
    "filtered_sentences = []\n",
    "for s in sentences:\n",
    "    if len(s) > 20:\n",
    "        filtered_sentences.append(s)\n",
    "\n",
    "print(len(filtered_sentences))"
   ]
  },
  {
   "cell_type": "markdown",
   "id": "bccf1783",
   "metadata": {},
   "source": [
    "### Create a dataframe with the sentences and take a random sample of 2000 sentences."
   ]
  },
  {
   "cell_type": "code",
   "execution_count": 4,
   "id": "537ed856",
   "metadata": {},
   "outputs": [
    {
     "data": {
      "text/html": [
       "<div>\n",
       "<style scoped>\n",
       "    .dataframe tbody tr th:only-of-type {\n",
       "        vertical-align: middle;\n",
       "    }\n",
       "\n",
       "    .dataframe tbody tr th {\n",
       "        vertical-align: top;\n",
       "    }\n",
       "\n",
       "    .dataframe thead th {\n",
       "        text-align: right;\n",
       "    }\n",
       "</style>\n",
       "<table border=\"1\" class=\"dataframe\">\n",
       "  <thead>\n",
       "    <tr style=\"text-align: right;\">\n",
       "      <th></th>\n",
       "      <th>sentences</th>\n",
       "    </tr>\n",
       "  </thead>\n",
       "  <tbody>\n",
       "    <tr>\n",
       "      <th>30553</th>\n",
       "      <td>Even “The Blinding,” which is split between booming Swizz Beatz and AraabMuzik chant music and elegant Hit-Boy dinner party rap, finds its way ont...</td>\n",
       "    </tr>\n",
       "    <tr>\n",
       "      <th>2886</th>\n",
       "      <td>It wasn’t entirely successful, though Kraviz’ search for new frontiers in live electronic music was, at the very least, provocative.</td>\n",
       "    </tr>\n",
       "    <tr>\n",
       "      <th>106070</th>\n",
       "      <td>It’s an old photograph of the artist’s mother in front of a body of water, her unique features erased, so that she becomes a shadow in the landsca...</td>\n",
       "    </tr>\n",
       "    <tr>\n",
       "      <th>31950</th>\n",
       "      <td>If they hadn’t so thoroughly flooded the market, perhaps there might have been more excitement around Wolf Parade’s 2017 reunion album Cry Cry Cry...</td>\n",
       "    </tr>\n",
       "    <tr>\n",
       "      <th>69192</th>\n",
       "      <td>“Didascalies” underscores the idea that even the most solemn scenarios can devolve dramatically, a lesson implicit in The Favourite.</td>\n",
       "    </tr>\n",
       "    <tr>\n",
       "      <th>...</th>\n",
       "      <td>...</td>\n",
       "    </tr>\n",
       "    <tr>\n",
       "      <th>87001</th>\n",
       "      <td>Coming after recent behind-the-scenes collaborations with artists like Rex Orange County, PJ Morton, and The Free Nationals, Music prominently fea...</td>\n",
       "    </tr>\n",
       "    <tr>\n",
       "      <th>60478</th>\n",
       "      <td>Rather than recrimination and blame, Rose offers a more measured appreciation of their time together, recalling the specifics of the relationship ...</td>\n",
       "    </tr>\n",
       "    <tr>\n",
       "      <th>39786</th>\n",
       "      <td>It’s a bit peppier than Slowdive and Orbital’s early-’90s crystallizations of noise, dub, and Detroit techno.</td>\n",
       "    </tr>\n",
       "    <tr>\n",
       "      <th>89226</th>\n",
       "      <td>Sign up for the 10 to Hear newsletter here.</td>\n",
       "    </tr>\n",
       "    <tr>\n",
       "      <th>59639</th>\n",
       "      <td>On heavily processed tracks like “Hex” and “Viva Shona,” ping-ponging electronic dots and dashes nearly crowd him out of the mix.</td>\n",
       "    </tr>\n",
       "  </tbody>\n",
       "</table>\n",
       "<p>2000 rows × 1 columns</p>\n",
       "</div>"
      ],
      "text/plain": [
       "                                                                                                                                                    sentences\n",
       "30553   Even “The Blinding,” which is split between booming Swizz Beatz and AraabMuzik chant music and elegant Hit-Boy dinner party rap, finds its way ont...\n",
       "2886                     It wasn’t entirely successful, though Kraviz’ search for new frontiers in live electronic music was, at the very least, provocative.\n",
       "106070  It’s an old photograph of the artist’s mother in front of a body of water, her unique features erased, so that she becomes a shadow in the landsca...\n",
       "31950   If they hadn’t so thoroughly flooded the market, perhaps there might have been more excitement around Wolf Parade’s 2017 reunion album Cry Cry Cry...\n",
       "69192                    “Didascalies” underscores the idea that even the most solemn scenarios can devolve dramatically, a lesson implicit in The Favourite.\n",
       "...                                                                                                                                                       ...\n",
       "87001   Coming after recent behind-the-scenes collaborations with artists like Rex Orange County, PJ Morton, and The Free Nationals, Music prominently fea...\n",
       "60478   Rather than recrimination and blame, Rose offers a more measured appreciation of their time together, recalling the specifics of the relationship ...\n",
       "39786                                           It’s a bit peppier than Slowdive and Orbital’s early-’90s crystallizations of noise, dub, and Detroit techno.\n",
       "89226                                                                                                             Sign up for the 10 to Hear newsletter here.\n",
       "59639                       On heavily processed tracks like “Hex” and “Viva Shona,” ping-ponging electronic dots and dashes nearly crowd him out of the mix.\n",
       "\n",
       "[2000 rows x 1 columns]"
      ]
     },
     "execution_count": 4,
     "metadata": {},
     "output_type": "execute_result"
    }
   ],
   "source": [
    "df_sentences = pd.DataFrame(filtered_sentences, columns = ['sentences'])\n",
    "df_sample_sentences = df_sentences.sample(n=2000, replace=False, random_state=0)\n",
    "df_sample_sentences"
   ]
  },
  {
   "cell_type": "markdown",
   "id": "adadd20b",
   "metadata": {},
   "source": [
    "### Export the Random sample sentences into a csv file."
   ]
  },
  {
   "cell_type": "code",
   "execution_count": 5,
   "id": "89f90a57",
   "metadata": {},
   "outputs": [],
   "source": [
    "df_sample_sentences.sentences.to_csv(\"pitchfork_randomsample_sentences.csv\", index=False)"
   ]
  },
  {
   "cell_type": "markdown",
   "id": "500a1d24",
   "metadata": {},
   "source": [
    "### pitchfork_randomsample_sentences.csv is downloaded and each sentence in this file is labelled with one of the following sentiments."
   ]
  },
  {
   "cell_type": "markdown",
   "id": "4030cffc",
   "metadata": {},
   "source": [
    "- 1 - Positive\n",
    "- 0 is Neutral\n",
    "- -1 is Negative"
   ]
  },
  {
   "cell_type": "markdown",
   "id": "1ef64b5a",
   "metadata": {},
   "source": [
    "## Load Labelled Sentences csv file"
   ]
  },
  {
   "cell_type": "code",
   "execution_count": 6,
   "id": "4c814e13",
   "metadata": {
    "scrolled": true
   },
   "outputs": [
    {
     "data": {
      "text/html": [
       "<div>\n",
       "<style scoped>\n",
       "    .dataframe tbody tr th:only-of-type {\n",
       "        vertical-align: middle;\n",
       "    }\n",
       "\n",
       "    .dataframe tbody tr th {\n",
       "        vertical-align: top;\n",
       "    }\n",
       "\n",
       "    .dataframe thead th {\n",
       "        text-align: right;\n",
       "    }\n",
       "</style>\n",
       "<table border=\"1\" class=\"dataframe\">\n",
       "  <thead>\n",
       "    <tr style=\"text-align: right;\">\n",
       "      <th></th>\n",
       "      <th>sentences</th>\n",
       "      <th>sentiment</th>\n",
       "    </tr>\n",
       "  </thead>\n",
       "  <tbody>\n",
       "    <tr>\n",
       "      <th>0</th>\n",
       "      <td>Even “The Blinding,” which is split between booming Swizz Beatz and AraabMuzik chant music and elegant Hit-Boy dinner party rap, finds its way ont...</td>\n",
       "      <td>1</td>\n",
       "    </tr>\n",
       "    <tr>\n",
       "      <th>1</th>\n",
       "      <td>It wasn’t entirely successful, though Kraviz’ search for new frontiers in live electronic music was, at the very least, provocative.</td>\n",
       "      <td>0</td>\n",
       "    </tr>\n",
       "    <tr>\n",
       "      <th>2</th>\n",
       "      <td>It’s an old photograph of the artist’s mother in front of a body of water, her unique features erased, so that she becomes a shadow in the landsca...</td>\n",
       "      <td>-1</td>\n",
       "    </tr>\n",
       "    <tr>\n",
       "      <th>3</th>\n",
       "      <td>If they hadn’t so thoroughly flooded the market, perhaps there might have been more excitement around Wolf Parade’s 2017 reunion album Cry Cry Cry...</td>\n",
       "      <td>-1</td>\n",
       "    </tr>\n",
       "    <tr>\n",
       "      <th>4</th>\n",
       "      <td>“Didascalies” underscores the idea that even the most solemn scenarios can devolve dramatically, a lesson implicit in The Favourite.</td>\n",
       "      <td>-1</td>\n",
       "    </tr>\n",
       "    <tr>\n",
       "      <th>...</th>\n",
       "      <td>...</td>\n",
       "      <td>...</td>\n",
       "    </tr>\n",
       "    <tr>\n",
       "      <th>1995</th>\n",
       "      <td>Coming after recent behind-the-scenes collaborations with artists like Rex Orange County, PJ Morton, and The Free Nationals, Music prominently fea...</td>\n",
       "      <td>0</td>\n",
       "    </tr>\n",
       "    <tr>\n",
       "      <th>1996</th>\n",
       "      <td>Rather than recrimination and blame, Rose offers a more measured appreciation of their time together, recalling the specifics of the relationship ...</td>\n",
       "      <td>-1</td>\n",
       "    </tr>\n",
       "    <tr>\n",
       "      <th>1997</th>\n",
       "      <td>It’s a bit peppier than Slowdive and Orbital’s early-’90s crystallizations of noise, dub, and Detroit techno.</td>\n",
       "      <td>0</td>\n",
       "    </tr>\n",
       "    <tr>\n",
       "      <th>1998</th>\n",
       "      <td>Sign up for the 10 to Hear newsletter here.</td>\n",
       "      <td>0</td>\n",
       "    </tr>\n",
       "    <tr>\n",
       "      <th>1999</th>\n",
       "      <td>On heavily processed tracks like “Hex” and “Viva Shona,” ping-ponging electronic dots and dashes nearly crowd him out of the mix.</td>\n",
       "      <td>-1</td>\n",
       "    </tr>\n",
       "  </tbody>\n",
       "</table>\n",
       "<p>2000 rows × 2 columns</p>\n",
       "</div>"
      ],
      "text/plain": [
       "                                                                                                                                                  sentences  \\\n",
       "0     Even “The Blinding,” which is split between booming Swizz Beatz and AraabMuzik chant music and elegant Hit-Boy dinner party rap, finds its way ont...   \n",
       "1                      It wasn’t entirely successful, though Kraviz’ search for new frontiers in live electronic music was, at the very least, provocative.   \n",
       "2     It’s an old photograph of the artist’s mother in front of a body of water, her unique features erased, so that she becomes a shadow in the landsca...   \n",
       "3     If they hadn’t so thoroughly flooded the market, perhaps there might have been more excitement around Wolf Parade’s 2017 reunion album Cry Cry Cry...   \n",
       "4                      “Didascalies” underscores the idea that even the most solemn scenarios can devolve dramatically, a lesson implicit in The Favourite.   \n",
       "...                                                                                                                                                     ...   \n",
       "1995  Coming after recent behind-the-scenes collaborations with artists like Rex Orange County, PJ Morton, and The Free Nationals, Music prominently fea...   \n",
       "1996  Rather than recrimination and blame, Rose offers a more measured appreciation of their time together, recalling the specifics of the relationship ...   \n",
       "1997                                          It’s a bit peppier than Slowdive and Orbital’s early-’90s crystallizations of noise, dub, and Detroit techno.   \n",
       "1998                                                                                                            Sign up for the 10 to Hear newsletter here.   \n",
       "1999                      On heavily processed tracks like “Hex” and “Viva Shona,” ping-ponging electronic dots and dashes nearly crowd him out of the mix.   \n",
       "\n",
       "      sentiment  \n",
       "0             1  \n",
       "1             0  \n",
       "2            -1  \n",
       "3            -1  \n",
       "4            -1  \n",
       "...         ...  \n",
       "1995          0  \n",
       "1996         -1  \n",
       "1997          0  \n",
       "1998          0  \n",
       "1999         -1  \n",
       "\n",
       "[2000 rows x 2 columns]"
      ]
     },
     "execution_count": 6,
     "metadata": {},
     "output_type": "execute_result"
    }
   ],
   "source": [
    "df_labelled = pd.read_csv(\"pitchfork_randomsample_sentences_Labelled.csv\", sep=\"\\t\")\n",
    "df_labelled"
   ]
  },
  {
   "cell_type": "code",
   "execution_count": 7,
   "id": "1c533036",
   "metadata": {},
   "outputs": [
    {
     "data": {
      "text/html": [
       "<div>\n",
       "<style scoped>\n",
       "    .dataframe tbody tr th:only-of-type {\n",
       "        vertical-align: middle;\n",
       "    }\n",
       "\n",
       "    .dataframe tbody tr th {\n",
       "        vertical-align: top;\n",
       "    }\n",
       "\n",
       "    .dataframe thead th {\n",
       "        text-align: right;\n",
       "    }\n",
       "</style>\n",
       "<table border=\"1\" class=\"dataframe\">\n",
       "  <thead>\n",
       "    <tr style=\"text-align: right;\">\n",
       "      <th></th>\n",
       "      <th>sentences</th>\n",
       "      <th>sentiment</th>\n",
       "    </tr>\n",
       "  </thead>\n",
       "  <tbody>\n",
       "    <tr>\n",
       "      <th>0</th>\n",
       "      <td>Even “The Blinding,” which is split between booming Swizz Beatz and AraabMuzik chant music and elegant Hit-Boy dinner party rap, finds its way ont...</td>\n",
       "      <td>1</td>\n",
       "    </tr>\n",
       "    <tr>\n",
       "      <th>1</th>\n",
       "      <td>It wasn’t entirely successful, though Kraviz’ search for new frontiers in live electronic music was, at the very least, provocative.</td>\n",
       "      <td>0</td>\n",
       "    </tr>\n",
       "    <tr>\n",
       "      <th>2</th>\n",
       "      <td>It’s an old photograph of the artist’s mother in front of a body of water, her unique features erased, so that she becomes a shadow in the landsca...</td>\n",
       "      <td>-1</td>\n",
       "    </tr>\n",
       "    <tr>\n",
       "      <th>3</th>\n",
       "      <td>If they hadn’t so thoroughly flooded the market, perhaps there might have been more excitement around Wolf Parade’s 2017 reunion album Cry Cry Cry...</td>\n",
       "      <td>-1</td>\n",
       "    </tr>\n",
       "    <tr>\n",
       "      <th>4</th>\n",
       "      <td>“Didascalies” underscores the idea that even the most solemn scenarios can devolve dramatically, a lesson implicit in The Favourite.</td>\n",
       "      <td>-1</td>\n",
       "    </tr>\n",
       "    <tr>\n",
       "      <th>...</th>\n",
       "      <td>...</td>\n",
       "      <td>...</td>\n",
       "    </tr>\n",
       "    <tr>\n",
       "      <th>1994</th>\n",
       "      <td>“First Time,” one of the strongest tracks, is both spacious and patient.</td>\n",
       "      <td>1</td>\n",
       "    </tr>\n",
       "    <tr>\n",
       "      <th>1995</th>\n",
       "      <td>Coming after recent behind-the-scenes collaborations with artists like Rex Orange County, PJ Morton, and The Free Nationals, Music prominently fea...</td>\n",
       "      <td>0</td>\n",
       "    </tr>\n",
       "    <tr>\n",
       "      <th>1996</th>\n",
       "      <td>Rather than recrimination and blame, Rose offers a more measured appreciation of their time together, recalling the specifics of the relationship ...</td>\n",
       "      <td>-1</td>\n",
       "    </tr>\n",
       "    <tr>\n",
       "      <th>1997</th>\n",
       "      <td>It’s a bit peppier than Slowdive and Orbital’s early-’90s crystallizations of noise, dub, and Detroit techno.</td>\n",
       "      <td>0</td>\n",
       "    </tr>\n",
       "    <tr>\n",
       "      <th>1999</th>\n",
       "      <td>On heavily processed tracks like “Hex” and “Viva Shona,” ping-ponging electronic dots and dashes nearly crowd him out of the mix.</td>\n",
       "      <td>-1</td>\n",
       "    </tr>\n",
       "  </tbody>\n",
       "</table>\n",
       "<p>1944 rows × 2 columns</p>\n",
       "</div>"
      ],
      "text/plain": [
       "                                                                                                                                                  sentences  \\\n",
       "0     Even “The Blinding,” which is split between booming Swizz Beatz and AraabMuzik chant music and elegant Hit-Boy dinner party rap, finds its way ont...   \n",
       "1                      It wasn’t entirely successful, though Kraviz’ search for new frontiers in live electronic music was, at the very least, provocative.   \n",
       "2     It’s an old photograph of the artist’s mother in front of a body of water, her unique features erased, so that she becomes a shadow in the landsca...   \n",
       "3     If they hadn’t so thoroughly flooded the market, perhaps there might have been more excitement around Wolf Parade’s 2017 reunion album Cry Cry Cry...   \n",
       "4                      “Didascalies” underscores the idea that even the most solemn scenarios can devolve dramatically, a lesson implicit in The Favourite.   \n",
       "...                                                                                                                                                     ...   \n",
       "1994                                                                               “First Time,” one of the strongest tracks, is both spacious and patient.   \n",
       "1995  Coming after recent behind-the-scenes collaborations with artists like Rex Orange County, PJ Morton, and The Free Nationals, Music prominently fea...   \n",
       "1996  Rather than recrimination and blame, Rose offers a more measured appreciation of their time together, recalling the specifics of the relationship ...   \n",
       "1997                                          It’s a bit peppier than Slowdive and Orbital’s early-’90s crystallizations of noise, dub, and Detroit techno.   \n",
       "1999                      On heavily processed tracks like “Hex” and “Viva Shona,” ping-ponging electronic dots and dashes nearly crowd him out of the mix.   \n",
       "\n",
       "      sentiment  \n",
       "0             1  \n",
       "1             0  \n",
       "2            -1  \n",
       "3            -1  \n",
       "4            -1  \n",
       "...         ...  \n",
       "1994          1  \n",
       "1995          0  \n",
       "1996         -1  \n",
       "1997          0  \n",
       "1999         -1  \n",
       "\n",
       "[1944 rows x 2 columns]"
      ]
     },
     "execution_count": 7,
     "metadata": {},
     "output_type": "execute_result"
    }
   ],
   "source": [
    "df_labelled= df_labelled.drop_duplicates(keep= \"first\") #To remove the duplicate sentences\n",
    "df_labelled"
   ]
  },
  {
   "cell_type": "markdown",
   "id": "d3ad05a9",
   "metadata": {},
   "source": [
    "### Get the value counts sentiment variable."
   ]
  },
  {
   "cell_type": "code",
   "execution_count": 8,
   "id": "413d94f6",
   "metadata": {},
   "outputs": [
    {
     "data": {
      "text/plain": [
       " 0    678\n",
       " 1    654\n",
       "-1    612\n",
       "Name: sentiment, dtype: int64"
      ]
     },
     "execution_count": 8,
     "metadata": {},
     "output_type": "execute_result"
    }
   ],
   "source": [
    "df_labelled.sentiment.value_counts()"
   ]
  },
  {
   "cell_type": "markdown",
   "id": "769b1f5c",
   "metadata": {},
   "source": [
    "### Modeling the Data"
   ]
  },
  {
   "cell_type": "code",
   "execution_count": 9,
   "id": "bcddab95",
   "metadata": {},
   "outputs": [],
   "source": [
    "# We import the Tfidvectorizer to create a document term matrix that gives us our X(feature variables) and y(target variable)\n",
    "from sklearn.feature_extraction.text import TfidfVectorizer\n",
    "\n",
    "vectorizer = TfidfVectorizer(use_idf=True, norm=\"l2\", stop_words=\"english\", max_df=0.7)\n",
    "\n",
    "x = vectorizer.fit_transform(df_labelled.sentences) # Our X column with shape = 1944, 10121\n",
    "\n",
    "y= df_labelled.sentiment # Our y column with shape = 1944"
   ]
  },
  {
   "cell_type": "code",
   "execution_count": 10,
   "id": "51f48a21",
   "metadata": {},
   "outputs": [],
   "source": [
    "# To randomly split the dataset into 2 sets for 80% training and 20% testing. we import from sklearn\n",
    "from sklearn.model_selection import train_test_split\n",
    "\n",
    "x_train, x_test, y_train, y_test = train_test_split (x, y, test_size = 0.2, random_state = 0)"
   ]
  },
  {
   "cell_type": "code",
   "execution_count": 11,
   "id": "b3d8640a",
   "metadata": {},
   "outputs": [
    {
     "data": {
      "text/plain": [
       "((1555, 10121), (1555,), (389, 10121), (389,))"
      ]
     },
     "execution_count": 11,
     "metadata": {},
     "output_type": "execute_result"
    }
   ],
   "source": [
    "x_train.shape, y_train.shape, x_test.shape, y_test.shape"
   ]
  },
  {
   "cell_type": "markdown",
   "id": "4b617ee3",
   "metadata": {},
   "source": [
    "### Building the Models"
   ]
  },
  {
   "cell_type": "markdown",
   "id": "a68e45d9",
   "metadata": {},
   "source": [
    "#### 1. K-Nearest Neighbors"
   ]
  },
  {
   "cell_type": "code",
   "execution_count": 12,
   "id": "704e5775",
   "metadata": {},
   "outputs": [
    {
     "name": "stdout",
     "output_type": "stream",
     "text": [
      "k = 1: [0.35369775 0.35369775 0.36655949 0.36334405 0.34405145]\n",
      "0.356, 0.008\n",
      "\n",
      "k = 5: [0.34083601 0.35691318 0.35369775 0.31189711 0.35691318]\n",
      "0.344, 0.017\n",
      "\n",
      "k = 10: [0.34405145 0.33762058 0.37942122 0.37299035 0.37299035]\n",
      "0.361, 0.017\n",
      "\n",
      "k = 30: [0.37299035 0.36655949 0.34083601 0.40514469 0.33118971]\n",
      "0.363, 0.026\n",
      "\n",
      "Highest score : 0.363 when k = 30\n"
     ]
    }
   ],
   "source": [
    "# We import the kNeighbors classifer\n",
    "\n",
    "from sklearn.neighbors import KNeighborsClassifier\n",
    "\n",
    "from sklearn.model_selection import cross_val_score # We split the data repeatedly & train multiple models from these new training sets\n",
    "knc = KNeighborsClassifier(n_neighbors=1) #we set our parameter to 1\n",
    "knc.fit(x_train, y_train) # We fit the model to the 80% training data\n",
    "# To get the higest possible variable max score from for random parameters.\n",
    "score_max = 0              # Score_max is a temoporay variable to store the max score \n",
    "\n",
    "for p in [1, 5, 10, 30]: #we set our parameters using these random numbers\n",
    "    model = KNeighborsClassifier(n_neighbors=p)\n",
    "    scores = cross_val_score(model, x_train, y_train, cv=5)\n",
    "    print(f\"k = {p}: {scores}\\n{round(scores.mean(), 3)}, {round(scores.std(), 3)}\\n\")\n",
    "    \n",
    "    if scores.mean() > score_max:\n",
    "        score_max = scores.mean()\n",
    "        p_best = p         # Param_best is a temoporay variable to store the best parameter \n",
    "        \n",
    "print(f\"Highest score : {round(score_max, 3)} when k = {p_best}\") "
   ]
  },
  {
   "cell_type": "code",
   "execution_count": 13,
   "id": "4b64f1e6",
   "metadata": {},
   "outputs": [
    {
     "name": "stdout",
     "output_type": "stream",
     "text": [
      "              precision    recall  f1-score   support\n",
      "\n",
      "          -1       0.00      0.00      0.00       132\n",
      "           0       0.30      1.00      0.46       115\n",
      "           1       0.00      0.00      0.00       142\n",
      "\n",
      "    accuracy                           0.30       389\n",
      "   macro avg       0.10      0.33      0.15       389\n",
      "weighted avg       0.09      0.30      0.13       389\n",
      "\n"
     ]
    },
    {
     "name": "stderr",
     "output_type": "stream",
     "text": [
      "/home/rpandurangan/.local/lib/python3.8/site-packages/sklearn/metrics/_classification.py:1318: UndefinedMetricWarning: Precision and F-score are ill-defined and being set to 0.0 in labels with no predicted samples. Use `zero_division` parameter to control this behavior.\n",
      "  _warn_prf(average, modifier, msg_start, len(result))\n",
      "/home/rpandurangan/.local/lib/python3.8/site-packages/sklearn/metrics/_classification.py:1318: UndefinedMetricWarning: Precision and F-score are ill-defined and being set to 0.0 in labels with no predicted samples. Use `zero_division` parameter to control this behavior.\n",
      "  _warn_prf(average, modifier, msg_start, len(result))\n",
      "/home/rpandurangan/.local/lib/python3.8/site-packages/sklearn/metrics/_classification.py:1318: UndefinedMetricWarning: Precision and F-score are ill-defined and being set to 0.0 in labels with no predicted samples. Use `zero_division` parameter to control this behavior.\n",
      "  _warn_prf(average, modifier, msg_start, len(result))\n"
     ]
    }
   ],
   "source": [
    "from sklearn.metrics import confusion_matrix, classification_report\n",
    "y_true = y_test\n",
    "y_pred = knc.predict(x_test)\n",
    "print(classification_report(y_true, y_pred)) "
   ]
  },
  {
   "cell_type": "markdown",
   "id": "4469ed4b",
   "metadata": {},
   "source": [
    "##### To build the final model with our optimal parameter"
   ]
  },
  {
   "cell_type": "code",
   "execution_count": 14,
   "id": "91b34b6b",
   "metadata": {},
   "outputs": [],
   "source": [
    "def train_test(X_train, X_test, y_train, y_test, cls):\n",
    "    cls.fit(X_train, y_train)\n",
    "    \n",
    "    y_true = y_test\n",
    "    y_pred = cls.predict(X_test)\n",
    "    \n",
    "    print(f\"Train accuracy score: {round(cls.score(X_train, y_train), 3)}\")\n",
    "    print(f\"Test accuracy score: {round(cls.score(X_test, y_test), 3)}\\n\")\n",
    "    print(confusion_matrix(y_true, y_pred))\n",
    "    print()\n",
    "    print(classification_report(y_true, y_pred, zero_division=0))\n",
    "    \n",
    "    return cls"
   ]
  },
  {
   "cell_type": "code",
   "execution_count": 15,
   "id": "02ad2fee",
   "metadata": {},
   "outputs": [
    {
     "name": "stdout",
     "output_type": "stream",
     "text": [
      "k = 30\n",
      "Train accuracy score: 0.45\n",
      "Test accuracy score: 0.329\n",
      "\n",
      "[[36 69 27]\n",
      " [28 63 24]\n",
      " [32 81 29]]\n",
      "\n",
      "              precision    recall  f1-score   support\n",
      "\n",
      "          -1       0.38      0.27      0.32       132\n",
      "           0       0.30      0.55      0.38       115\n",
      "           1       0.36      0.20      0.26       142\n",
      "\n",
      "    accuracy                           0.33       389\n",
      "   macro avg       0.34      0.34      0.32       389\n",
      "weighted avg       0.35      0.33      0.32       389\n",
      "\n",
      "CPU times: user 109 ms, sys: 11.6 ms, total: 120 ms\n",
      "Wall time: 118 ms\n"
     ]
    }
   ],
   "source": [
    "print(f\"k = {p_best}\")\n",
    "knc = KNeighborsClassifier(n_neighbors=p_best)#initialize a new model with the previous parameter\n",
    "%time knc = train_test(x_train, x_test, y_train, y_test, knc)"
   ]
  },
  {
   "cell_type": "markdown",
   "id": "2e98dcd6",
   "metadata": {},
   "source": [
    "###### Making Predictions"
   ]
  },
  {
   "cell_type": "code",
   "execution_count": 16,
   "id": "654e294d",
   "metadata": {},
   "outputs": [
    {
     "data": {
      "text/plain": [
       "array([ 0, -1, -1, -1,  1,  0,  0,  1,  0,  0])"
      ]
     },
     "execution_count": 16,
     "metadata": {},
     "output_type": "execute_result"
    }
   ],
   "source": [
    "text1 = \"Dancing all night to the fave band has me feeling so good this morning. It was a good time!\"\n",
    "text2 = \"I will not be bullied into hiding my face because I dislike His songs.\"\n",
    "text3 = \"Today, I became a fan of Classic music. Move over jazz!\"\n",
    "text4 = \"I am so sad\"\n",
    "text5 = \"They are playing football nicely.\"\n",
    "text6 = \"The officer arrested the culprits.\"\n",
    "text7 = \"We were not sad when he moved away.\"\n",
    "text8 = \"He will not have received enough score by the summer.\"\n",
    "text9 = \"I had not been cooking any meal when she came to my home.\"\n",
    "text10 = \"Mary and Samantha took the bus\"\n",
    "\n",
    "new_texts = [text1, text2, text3, text4, text5, text6, text7, text8, text9, text10]\n",
    "x_new = vectorizer.transform(new_texts)\n",
    "\n",
    "knc.predict(x_new) #assign x_new as the new varaible to predict for K-NN"
   ]
  },
  {
   "cell_type": "code",
   "execution_count": 17,
   "id": "a2eb7765",
   "metadata": {},
   "outputs": [
    {
     "name": "stdout",
     "output_type": "stream",
     "text": [
      "k = 30\n",
      "Train accuracy score: 0.45\n",
      "Test accuracy score: 0.329\n",
      "\n",
      "[[36 69 27]\n",
      " [28 63 24]\n",
      " [32 81 29]]\n",
      "\n",
      "              precision    recall  f1-score   support\n",
      "\n",
      "          -1       0.38      0.27      0.32       132\n",
      "           0       0.30      0.55      0.38       115\n",
      "           1       0.36      0.20      0.26       142\n",
      "\n",
      "    accuracy                           0.33       389\n",
      "   macro avg       0.34      0.34      0.32       389\n",
      "weighted avg       0.35      0.33      0.32       389\n",
      "\n",
      "CPU times: user 105 ms, sys: 8.28 ms, total: 113 ms\n",
      "Wall time: 113 ms\n"
     ]
    }
   ],
   "source": [
    "print(f\"k = {p_best}\")\n",
    "knc = KNeighborsClassifier(n_neighbors=p_best)#initialize a new model with the previous parameter\n",
    "%time knc = train_test(x_train, x_test, y_train, y_test, knc)"
   ]
  },
  {
   "cell_type": "code",
   "execution_count": 18,
   "id": "8693ef8d",
   "metadata": {},
   "outputs": [],
   "source": [
    "summary = {}\n",
    "summary[\"k-NNs\"] = round(knc.score(x_test, y_test), 3) # Add K-NNs to the Summary dictionary"
   ]
  },
  {
   "cell_type": "code",
   "execution_count": 19,
   "id": "08c33641",
   "metadata": {},
   "outputs": [
    {
     "data": {
      "text/plain": [
       "array([ 0, -1, -1, -1,  1,  0,  0,  1,  0,  0])"
      ]
     },
     "execution_count": 19,
     "metadata": {},
     "output_type": "execute_result"
    }
   ],
   "source": [
    "knc.predict(x_new)"
   ]
  },
  {
   "cell_type": "markdown",
   "id": "13c49e8a",
   "metadata": {},
   "source": [
    "#### 2. Logistics Regression"
   ]
  },
  {
   "cell_type": "code",
   "execution_count": 20,
   "id": "6406fa48",
   "metadata": {},
   "outputs": [
    {
     "name": "stdout",
     "output_type": "stream",
     "text": [
      "[0.37299035 0.36655949 0.34083601 0.40514469 0.33118971]\n",
      "0.363, 0.026\n"
     ]
    }
   ],
   "source": [
    "from sklearn.linear_model import LogisticRegression # We import the Logistics Regression (LR) classifer\n",
    "\n",
    "lr = LogisticRegression(random_state=0) # We set our random state to 0 to control the degree of randomnessscores = cross_val_score(lr, x_train, y_train, cv=5)\n",
    "print(f\"{scores}\\n{round(scores.mean(), 3)}, {round(scores.std(), 3)}\")"
   ]
  },
  {
   "cell_type": "code",
   "execution_count": 21,
   "id": "42581c6c",
   "metadata": {},
   "outputs": [
    {
     "name": "stdout",
     "output_type": "stream",
     "text": [
      "Train accuracy score: 0.992\n",
      "Test accuracy score: 0.365\n",
      "\n",
      "[[33 60 39]\n",
      " [18 64 33]\n",
      " [27 70 45]]\n",
      "\n",
      "              precision    recall  f1-score   support\n",
      "\n",
      "          -1       0.42      0.25      0.31       132\n",
      "           0       0.33      0.56      0.41       115\n",
      "           1       0.38      0.32      0.35       142\n",
      "\n",
      "    accuracy                           0.37       389\n",
      "   macro avg       0.38      0.37      0.36       389\n",
      "weighted avg       0.38      0.37      0.36       389\n",
      "\n",
      "CPU times: user 4.87 s, sys: 17.6 s, total: 22.5 s\n",
      "Wall time: 312 ms\n"
     ]
    }
   ],
   "source": [
    "%time lr = train_test(x_train, x_test, y_train, y_test, lr)"
   ]
  },
  {
   "cell_type": "code",
   "execution_count": 22,
   "id": "7b79f0d6",
   "metadata": {},
   "outputs": [],
   "source": [
    "summary[\"Logistic Regression\"] = round(lr.score(x_test, y_test), 3) # Add the Logistics Regression to the Summary dictionary"
   ]
  },
  {
   "cell_type": "code",
   "execution_count": 24,
   "id": "4b50b3cb",
   "metadata": {},
   "outputs": [
    {
     "data": {
      "text/plain": [
       "array([ 0, -1,  0])"
      ]
     },
     "execution_count": 24,
     "metadata": {},
     "output_type": "execute_result"
    }
   ],
   "source": [
    "lr.predict(x_new)"
   ]
  },
  {
   "cell_type": "markdown",
   "id": "790f2752",
   "metadata": {},
   "source": [
    "#### 3. Multinomial Naive Bayes"
   ]
  },
  {
   "cell_type": "code",
   "execution_count": 25,
   "id": "01054be1",
   "metadata": {},
   "outputs": [
    {
     "name": "stdout",
     "output_type": "stream",
     "text": [
      "[0.35691318 0.37942122 0.35369775 0.37942122 0.34405145]\n",
      "0.363, 0.014\n"
     ]
    }
   ],
   "source": [
    "from sklearn.naive_bayes import MultinomialNB    # We import the Multinomial Bayes classifer\n",
    "\n",
    "mnb = MultinomialNB()\n",
    "scores = cross_val_score(mnb, x_train, y_train, cv=5)\n",
    "print(f\"{scores}\\n{round(scores.mean(), 3)}, {round(scores.std(), 3)}\")"
   ]
  },
  {
   "cell_type": "code",
   "execution_count": 26,
   "id": "17411de5",
   "metadata": {},
   "outputs": [
    {
     "name": "stdout",
     "output_type": "stream",
     "text": [
      "Train accuracy score: 0.987\n",
      "Test accuracy score: 0.37\n",
      "\n",
      "[[31 65 36]\n",
      " [16 68 31]\n",
      " [20 77 45]]\n",
      "\n",
      "              precision    recall  f1-score   support\n",
      "\n",
      "          -1       0.46      0.23      0.31       132\n",
      "           0       0.32      0.59      0.42       115\n",
      "           1       0.40      0.32      0.35       142\n",
      "\n",
      "    accuracy                           0.37       389\n",
      "   macro avg       0.40      0.38      0.36       389\n",
      "weighted avg       0.40      0.37      0.36       389\n",
      "\n",
      "CPU times: user 4.8 ms, sys: 2.06 ms, total: 6.87 ms\n",
      "Wall time: 6.36 ms\n"
     ]
    }
   ],
   "source": [
    "%time mnb = train_test(x_train, x_test, y_train, y_test, mnb) #assign it to mb"
   ]
  },
  {
   "cell_type": "code",
   "execution_count": 27,
   "id": "6af5e96b",
   "metadata": {},
   "outputs": [],
   "source": [
    "summary[\"Multinomial Naive Bayes\"] = round(mnb.score(x_test, y_test), 3) # Add MNC to the Summary dictionary"
   ]
  },
  {
   "cell_type": "code",
   "execution_count": 28,
   "id": "396895e2",
   "metadata": {},
   "outputs": [
    {
     "data": {
      "text/plain": [
       "array([0, 1, 1])"
      ]
     },
     "execution_count": 28,
     "metadata": {},
     "output_type": "execute_result"
    }
   ],
   "source": [
    "mnb.predict(x_new)"
   ]
  },
  {
   "cell_type": "markdown",
   "id": "43661a46",
   "metadata": {},
   "source": [
    "#### 4. Decision Trees"
   ]
  },
  {
   "cell_type": "code",
   "execution_count": 29,
   "id": "c1b80afd",
   "metadata": {},
   "outputs": [
    {
     "name": "stdout",
     "output_type": "stream",
     "text": [
      "[0.37942122 0.31189711 0.36012862 0.35691318 0.36977492]\n",
      "0.356, 0.023\n"
     ]
    }
   ],
   "source": [
    "from sklearn.tree import DecisionTreeClassifier    # We import the Decision Tree classifer\n",
    "\n",
    "dtc = DecisionTreeClassifier(random_state=0)\n",
    "\n",
    "scores = cross_val_score(dtc, x_train, y_train, cv=5)\n",
    "print(f\"{scores}\\n{round(scores.mean(), 3)}, {round(scores.std(), 3)}\")"
   ]
  },
  {
   "cell_type": "code",
   "execution_count": 30,
   "id": "18c6f244",
   "metadata": {},
   "outputs": [
    {
     "name": "stdout",
     "output_type": "stream",
     "text": [
      "Train accuracy score: 0.998\n",
      "Test accuracy score: 0.37\n",
      "\n",
      "[[42 56 34]\n",
      " [26 59 30]\n",
      " [40 59 43]]\n",
      "\n",
      "              precision    recall  f1-score   support\n",
      "\n",
      "          -1       0.39      0.32      0.35       132\n",
      "           0       0.34      0.51      0.41       115\n",
      "           1       0.40      0.30      0.35       142\n",
      "\n",
      "    accuracy                           0.37       389\n",
      "   macro avg       0.38      0.38      0.37       389\n",
      "weighted avg       0.38      0.37      0.37       389\n",
      "\n",
      "CPU times: user 402 ms, sys: 0 ns, total: 402 ms\n",
      "Wall time: 402 ms\n"
     ]
    }
   ],
   "source": [
    "%time dtc = train_test(x_train, x_test, y_train, y_test, dtc)"
   ]
  },
  {
   "cell_type": "code",
   "execution_count": 31,
   "id": "9daf4b1f",
   "metadata": {},
   "outputs": [],
   "source": [
    "summary[\"Decision Trees\"] = round(dtc.score(x_test, y_test), 3) # Add DT to the Summary dictionary"
   ]
  },
  {
   "cell_type": "code",
   "execution_count": 32,
   "id": "a6ea9bf0",
   "metadata": {},
   "outputs": [
    {
     "data": {
      "text/plain": [
       "array([0, 0, 1])"
      ]
     },
     "execution_count": 32,
     "metadata": {},
     "output_type": "execute_result"
    }
   ],
   "source": [
    "dtc.predict(x_new)"
   ]
  },
  {
   "cell_type": "markdown",
   "id": "348d3636",
   "metadata": {},
   "source": [
    "#### 5. Random Forest"
   ]
  },
  {
   "cell_type": "code",
   "execution_count": 33,
   "id": "a36ce3cc",
   "metadata": {},
   "outputs": [
    {
     "name": "stdout",
     "output_type": "stream",
     "text": [
      "[0.35691318 0.32154341 0.34083601 0.38263666 0.36012862]\n",
      "0.352, 0.02\n"
     ]
    }
   ],
   "source": [
    "from sklearn.ensemble import RandomForestClassifier #Import the classifier\n",
    "\n",
    "rfc = RandomForestClassifier(random_state=0)\n",
    "\n",
    "scores = cross_val_score(rfc, x_train, y_train, cv=5)\n",
    "print(f\"{scores}\\n{round(scores.mean(), 3)}, {round(scores.std(), 3)}\")"
   ]
  },
  {
   "cell_type": "code",
   "execution_count": 34,
   "id": "4aafdff4",
   "metadata": {},
   "outputs": [
    {
     "name": "stdout",
     "output_type": "stream",
     "text": [
      "Train accuracy score: 0.998\n",
      "Test accuracy score: 0.35\n",
      "\n",
      "[[ 19  96  17]\n",
      " [  8  98   9]\n",
      " [ 17 106  19]]\n",
      "\n",
      "              precision    recall  f1-score   support\n",
      "\n",
      "          -1       0.43      0.14      0.22       132\n",
      "           0       0.33      0.85      0.47       115\n",
      "           1       0.42      0.13      0.20       142\n",
      "\n",
      "    accuracy                           0.35       389\n",
      "   macro avg       0.39      0.38      0.30       389\n",
      "weighted avg       0.40      0.35      0.29       389\n",
      "\n",
      "CPU times: user 2.4 s, sys: 1.54 ms, total: 2.4 s\n",
      "Wall time: 2.4 s\n"
     ]
    }
   ],
   "source": [
    "%time rfc = train_test(x_train, x_test, y_train, y_test, rfc)"
   ]
  },
  {
   "cell_type": "code",
   "execution_count": 35,
   "id": "aba8ab45",
   "metadata": {},
   "outputs": [],
   "source": [
    "summary[\"Random Forest\"] = round(rfc.score(x_test, y_test), 3) # Add RF to the Summary dictionary\n"
   ]
  },
  {
   "cell_type": "code",
   "execution_count": 36,
   "id": "a6fd9d01",
   "metadata": {},
   "outputs": [
    {
     "data": {
      "text/plain": [
       "array([1, 0, 0])"
      ]
     },
     "execution_count": 36,
     "metadata": {},
     "output_type": "execute_result"
    }
   ],
   "source": [
    "rfc.predict(x_new)"
   ]
  },
  {
   "cell_type": "markdown",
   "id": "e641c2b5",
   "metadata": {},
   "source": [
    "#### 6. Linear Support Vector Machines (SVM)"
   ]
  },
  {
   "cell_type": "code",
   "execution_count": 37,
   "id": "4742519e",
   "metadata": {},
   "outputs": [
    {
     "name": "stdout",
     "output_type": "stream",
     "text": [
      "C = 0.01: [0.36012862 0.36012862 0.36334405 0.36334405 0.36334405]\n",
      "0.362, 0.002\n",
      "\n",
      "C = 0.03: [0.33118971 0.35691318 0.36012862 0.36655949 0.36334405]\n",
      "0.356, 0.013\n",
      "\n",
      "C = 0.1: [0.35369775 0.36334405 0.36655949 0.40836013 0.33762058]\n",
      "0.366, 0.023\n",
      "\n",
      "C = 0.3: [0.36655949 0.36334405 0.35048232 0.37620579 0.33118971]\n",
      "0.358, 0.016\n",
      "\n",
      "C = 1: [0.36655949 0.35369775 0.35048232 0.35691318 0.32154341]\n",
      "0.35, 0.015\n",
      "\n",
      "C = 3: [0.35369775 0.36334405 0.36334405 0.35369775 0.32475884]\n",
      "0.352, 0.014\n",
      "\n",
      "C = 10: [0.33440514 0.36655949 0.36012862 0.35048232 0.32154341]\n",
      "0.347, 0.017\n",
      "\n",
      "Highest score : 0.366 when C = 0.1\n"
     ]
    }
   ],
   "source": [
    "from sklearn.svm import LinearSVC\n",
    "\n",
    "lsvc = LinearSVC(random_state=0)\n",
    "\n",
    "score_max = 0\n",
    "\n",
    "for param in [0.01, 0.03, 0.1, 0.3, 1, 3, 10]: #try different values\n",
    "    model = LinearSVC(C=param, random_state=0)\n",
    "    scores = cross_val_score(model, x_train, y_train, cv=5)\n",
    "    print(f\"C = {param}: {scores}\\n{round(scores.mean(), 3)}, {round(scores.std(), 3)}\\n\")\n",
    "    \n",
    "    if scores.mean() > score_max: #to get the max average score and its corresponding value\n",
    "        score_max = scores.mean()\n",
    "        param_best = param\n",
    "        \n",
    "print(f\"Highest score : {round(score_max, 3)} when C = {param_best}\")"
   ]
  },
  {
   "cell_type": "code",
   "execution_count": 38,
   "id": "ecb6acb1",
   "metadata": {},
   "outputs": [
    {
     "name": "stdout",
     "output_type": "stream",
     "text": [
      "C = 0.1\n",
      "Train accuracy score: 0.985\n",
      "Test accuracy score: 0.37\n",
      "\n",
      "[[28 68 36]\n",
      " [16 72 27]\n",
      " [21 77 44]]\n",
      "\n",
      "              precision    recall  f1-score   support\n",
      "\n",
      "          -1       0.43      0.21      0.28       132\n",
      "           0       0.33      0.63      0.43       115\n",
      "           1       0.41      0.31      0.35       142\n",
      "\n",
      "    accuracy                           0.37       389\n",
      "   macro avg       0.39      0.38      0.36       389\n",
      "weighted avg       0.39      0.37      0.35       389\n",
      "\n",
      "CPU times: user 9.72 ms, sys: 0 ns, total: 9.72 ms\n",
      "Wall time: 8.74 ms\n"
     ]
    }
   ],
   "source": [
    "print(f\"C = {param_best}\")  #re-initialize our model, pass the parameter to a new name, then run\n",
    "lsvc = LinearSVC(C=param_best)\n",
    "%time lsvc = train_test(x_train, x_test, y_train, y_test, lsvc)"
   ]
  },
  {
   "cell_type": "code",
   "execution_count": 39,
   "id": "551546a8",
   "metadata": {},
   "outputs": [],
   "source": [
    "summary[\"Linear SVMs\"] = round(lsvc.score(x_test, y_test), 3) # Add L-SVM to the Summary dictionary"
   ]
  },
  {
   "cell_type": "code",
   "execution_count": 40,
   "id": "c70ea75e",
   "metadata": {},
   "outputs": [
    {
     "data": {
      "text/plain": [
       "array([0, 0, 0])"
      ]
     },
     "execution_count": 40,
     "metadata": {},
     "output_type": "execute_result"
    }
   ],
   "source": [
    "lsvc.predict(x_new)"
   ]
  },
  {
   "cell_type": "markdown",
   "id": "b71da0dd",
   "metadata": {},
   "source": [
    "#### 7. Kernelized Support Vector Machines (KSVMs)"
   ]
  },
  {
   "cell_type": "code",
   "execution_count": 41,
   "id": "8896edd3",
   "metadata": {},
   "outputs": [
    {
     "name": "stdout",
     "output_type": "stream",
     "text": [
      "C = 0.01: [0.36012862 0.35048232 0.36977492 0.38585209 0.31189711]\n",
      "0.356, 0.025\n",
      "\n",
      "C = 0.03: [0.36012862 0.35048232 0.36977492 0.38585209 0.31189711]\n",
      "0.356, 0.025\n",
      "\n",
      "C = 0.1: [0.36012862 0.35048232 0.36977492 0.38585209 0.31189711]\n",
      "0.356, 0.025\n",
      "\n",
      "C = 0.3: [0.36012862 0.35048232 0.36977492 0.38585209 0.31189711]\n",
      "0.356, 0.025\n",
      "\n",
      "C = 1: [0.36012862 0.35048232 0.36977492 0.38585209 0.31189711]\n",
      "0.356, 0.025\n",
      "\n",
      "C = 3: [0.36012862 0.35048232 0.36977492 0.38585209 0.31189711]\n",
      "0.356, 0.025\n",
      "\n",
      "C = 10: [0.36012862 0.35048232 0.36977492 0.38585209 0.31189711]\n",
      "0.356, 0.025\n",
      "\n",
      "Highest score : 0.356 when C = 0.01\n"
     ]
    }
   ],
   "source": [
    "from sklearn.svm import SVC\n",
    "\n",
    "svc = SVC(C=1, kernel=\"rbf\", gamma=\"scale\", random_state=0)\n",
    "score_max = 0\n",
    "\n",
    "for parameter in [0.01, 0.03, 0.1, 0.3, 1, 3, 10]: #Using different parameters to get the best score\n",
    "    model = SVC(C=param, kernel=\"rbf\", gamma=\"scale\", random_state=0)\n",
    "    scores = cross_val_score(model, x_train, y_train, cv=5)\n",
    "    print(f\"C = {parameter}: {scores}\\n{round(scores.mean(), 3)}, {round(scores.std(), 3)}\\n\")\n",
    "    \n",
    "    if scores.mean() > score_max:\n",
    "        score_max = scores.mean()\n",
    "        parameter_best = parameter\n",
    "        \n",
    "print(f\"Highest score : {round(score_max, 3)} when C = {parameter_best}\")"
   ]
  },
  {
   "cell_type": "code",
   "execution_count": 42,
   "id": "44a766ad",
   "metadata": {},
   "outputs": [
    {
     "name": "stdout",
     "output_type": "stream",
     "text": [
      "C = 0.01\n",
      "Train accuracy score: 0.362\n",
      "Test accuracy score: 0.296\n",
      "\n",
      "[[  0 132   0]\n",
      " [  0 115   0]\n",
      " [  0 142   0]]\n",
      "\n",
      "              precision    recall  f1-score   support\n",
      "\n",
      "          -1       0.00      0.00      0.00       132\n",
      "           0       0.30      1.00      0.46       115\n",
      "           1       0.00      0.00      0.00       142\n",
      "\n",
      "    accuracy                           0.30       389\n",
      "   macro avg       0.10      0.33      0.15       389\n",
      "weighted avg       0.09      0.30      0.13       389\n",
      "\n",
      "CPU times: user 953 ms, sys: 0 ns, total: 953 ms\n",
      "Wall time: 952 ms\n"
     ]
    }
   ],
   "source": [
    "print(f\"C = {parameter_best}\")\n",
    "svc = SVC(C=parameter_best)\n",
    "%time svc = train_test(x_train, x_test, y_train, y_test, svc)"
   ]
  },
  {
   "cell_type": "code",
   "execution_count": 43,
   "id": "ce3c01d5",
   "metadata": {},
   "outputs": [],
   "source": [
    "summary[\"Kernelized SVMs\"] = round(svc.score(x_test, y_test), 3) # Add K-SVMs to the Summary dictionary"
   ]
  },
  {
   "cell_type": "code",
   "execution_count": 44,
   "id": "6d7a639e",
   "metadata": {},
   "outputs": [
    {
     "data": {
      "text/plain": [
       "array([0, 0, 0])"
      ]
     },
     "execution_count": 44,
     "metadata": {},
     "output_type": "execute_result"
    }
   ],
   "source": [
    "svc.predict(x_new)"
   ]
  },
  {
   "cell_type": "markdown",
   "id": "256988d1",
   "metadata": {},
   "source": [
    "#### 8. Neural Networks"
   ]
  },
  {
   "cell_type": "code",
   "execution_count": 45,
   "id": "ac151305",
   "metadata": {},
   "outputs": [
    {
     "name": "stderr",
     "output_type": "stream",
     "text": [
      "/home/rpandurangan/.local/lib/python3.8/site-packages/sklearn/neural_network/_multilayer_perceptron.py:692: ConvergenceWarning: Stochastic Optimizer: Maximum iterations (200) reached and the optimization hasn't converged yet.\n",
      "  warnings.warn(\n",
      "/home/rpandurangan/.local/lib/python3.8/site-packages/sklearn/neural_network/_multilayer_perceptron.py:692: ConvergenceWarning: Stochastic Optimizer: Maximum iterations (200) reached and the optimization hasn't converged yet.\n",
      "  warnings.warn(\n",
      "/home/rpandurangan/.local/lib/python3.8/site-packages/sklearn/neural_network/_multilayer_perceptron.py:692: ConvergenceWarning: Stochastic Optimizer: Maximum iterations (200) reached and the optimization hasn't converged yet.\n",
      "  warnings.warn(\n",
      "/home/rpandurangan/.local/lib/python3.8/site-packages/sklearn/neural_network/_multilayer_perceptron.py:692: ConvergenceWarning: Stochastic Optimizer: Maximum iterations (200) reached and the optimization hasn't converged yet.\n",
      "  warnings.warn(\n",
      "/home/rpandurangan/.local/lib/python3.8/site-packages/sklearn/neural_network/_multilayer_perceptron.py:692: ConvergenceWarning: Stochastic Optimizer: Maximum iterations (200) reached and the optimization hasn't converged yet.\n",
      "  warnings.warn(\n"
     ]
    },
    {
     "name": "stdout",
     "output_type": "stream",
     "text": [
      "hidden_layer_size = 10: [0.34083601 0.34083601 0.35048232 0.36334405 0.33118971]\n",
      "0.345, 0.011\n",
      "\n",
      "hidden_layer_size = 30: [0.34405145 0.37299035 0.36334405 0.35691318 0.31511254]\n",
      "0.35, 0.02\n",
      "\n",
      "hidden_layer_size = 100: [0.34405145 0.34726688 0.34405145 0.37299035 0.33762058]\n",
      "0.349, 0.012\n",
      "\n",
      "Highest score : 0.35 when hidden_layer_sizes = 30\n"
     ]
    }
   ],
   "source": [
    "from sklearn.neural_network import MLPClassifier\n",
    "\n",
    "mlpc = MLPClassifier(hidden_layer_sizes=(10, ), random_state=0)\n",
    "\n",
    "score_max = 0\n",
    "\n",
    "for p_meter in [10, 30, 100]:\n",
    "    model = MLPClassifier(hidden_layer_sizes=(p_meter, ), random_state=0)\n",
    "    scores = cross_val_score(model, x_train, y_train, cv=5)\n",
    "    print(f\"hidden_layer_size = {p_meter}: {scores}\\n{round(scores.mean(), 3)}, {round(scores.std(), 3)}\\n\")\n",
    "    \n",
    "    if scores.mean() > score_max:\n",
    "        score_max = scores.mean()\n",
    "        p_meter_best = p_meter\n",
    "        \n",
    "print(f\"Highest score : {round(score_max, 3)} when hidden_layer_sizes = {p_meter_best}\")"
   ]
  },
  {
   "cell_type": "code",
   "execution_count": 46,
   "id": "82a1b846",
   "metadata": {},
   "outputs": [
    {
     "name": "stdout",
     "output_type": "stream",
     "text": [
      "hidden_layer_size = 30\n",
      "Train accuracy score: 0.998\n",
      "Test accuracy score: 0.388\n",
      "\n",
      "[[44 51 37]\n",
      " [22 55 38]\n",
      " [29 61 52]]\n",
      "\n",
      "              precision    recall  f1-score   support\n",
      "\n",
      "          -1       0.46      0.33      0.39       132\n",
      "           0       0.33      0.48      0.39       115\n",
      "           1       0.41      0.37      0.39       142\n",
      "\n",
      "    accuracy                           0.39       389\n",
      "   macro avg       0.40      0.39      0.39       389\n",
      "weighted avg       0.40      0.39      0.39       389\n",
      "\n",
      "CPU times: user 54.7 s, sys: 3min 27s, total: 4min 22s\n",
      "Wall time: 4.1 s\n"
     ]
    }
   ],
   "source": [
    "print(f\"hidden_layer_size = {p_meter_best}\")\n",
    "mlpc = MLPClassifier(hidden_layer_sizes=(p_meter_best, ), random_state=0)\n",
    "%time mlpc = train_test(x_train, x_test, y_train, y_test, mlpc)"
   ]
  },
  {
   "cell_type": "code",
   "execution_count": 47,
   "id": "06639341",
   "metadata": {},
   "outputs": [],
   "source": [
    "summary[\"Neural Networks\"] = round(mlpc.score(x_test, y_test), 3) # Add NN to the Summary dictionary"
   ]
  },
  {
   "cell_type": "code",
   "execution_count": 48,
   "id": "706a31cc",
   "metadata": {},
   "outputs": [
    {
     "data": {
      "text/plain": [
       "array([0, 1, 1])"
      ]
     },
     "execution_count": 48,
     "metadata": {},
     "output_type": "execute_result"
    }
   ],
   "source": [
    "mlpc.predict(x_new)"
   ]
  },
  {
   "cell_type": "markdown",
   "id": "977c83ae",
   "metadata": {},
   "source": [
    "### Selecting the Best Model"
   ]
  },
  {
   "cell_type": "code",
   "execution_count": 49,
   "id": "8b6bacc9",
   "metadata": {},
   "outputs": [
    {
     "data": {
      "text/plain": [
       "{'k-NNs': 0.329,\n",
       " 'Logistic Regression': 0.365,\n",
       " 'Multinomial Naive Bayes': 0.37,\n",
       " 'Decision Trees': 0.37,\n",
       " 'Random Forest': 0.35,\n",
       " 'Linear SVMs': 0.37,\n",
       " 'Kernelized SVMs': 0.296,\n",
       " 'Neural Networks': 0.388}"
      ]
     },
     "execution_count": 49,
     "metadata": {},
     "output_type": "execute_result"
    }
   ],
   "source": [
    "summary"
   ]
  },
  {
   "cell_type": "markdown",
   "id": "99c9d940",
   "metadata": {},
   "source": [
    "Our overall performance using these 8 classification models was low. The best of the models is the Neural Network which gives a score of 0.388. This is low and may indicate:\n",
    "\n",
    "- Methodologies\n",
    "    - The set of optimal parameters yieling the best performance may have not been found. \n",
    "    - The classification algorithm yiendling the best performance may have not been found. \n",
    "    - The features used (sentences), may not serve as predictors, i.e., have no predictive power. It is important to consider adjusting the features (although there's no guarantee that it would work if none of the features have predictive power.)\n",
    "- Data\n",
    "    - The quality of the labeled data is not very good, i.e., the labels are not very accurate. \n",
    "    - The number of labeled samples is not sufficient."
   ]
  }
 ],
 "metadata": {
  "kernelspec": {
   "display_name": "Python 3 (ipykernel)",
   "language": "python",
   "name": "python3"
  },
  "language_info": {
   "codemirror_mode": {
    "name": "ipython",
    "version": 3
   },
   "file_extension": ".py",
   "mimetype": "text/x-python",
   "name": "python",
   "nbconvert_exporter": "python",
   "pygments_lexer": "ipython3",
   "version": "3.8.0"
  }
 },
 "nbformat": 4,
 "nbformat_minor": 5
}
